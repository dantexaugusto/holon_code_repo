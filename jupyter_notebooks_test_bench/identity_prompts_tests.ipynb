{
 "cells": [
  {
   "cell_type": "code",
   "execution_count": 1,
   "id": "9d4e1b25-bc29-4cc6-bb6a-d53917a78a69",
   "metadata": {},
   "outputs": [],
   "source": [
    "from openai import OpenAI\n",
    "from dotenv import load_dotenv\n",
    "import os\n",
    "import sqlite3\n",
    "from datetime import datetime\n",
    "\n",
    "def llm_transmitter_receiver(input_message, prev_respID):\n",
    "\n",
    "    load_dotenv()\n",
    "    client = OpenAI(api_key=os.getenv(\"OPENAI_API_KEY\"))\n",
    "\n",
    "    #Carrega o arquivo de texto com o promt de identidade e comportamento para o modelo\n",
    "    with open(\"holon_identity_prompt_00.txt\", \"r\") as promptFile:\n",
    "        identity_prompt = promptFile.read()\n",
    "        \n",
    "    response = client.responses.create(\n",
    "        model=\"gpt-4.1-nano\",\n",
    "        previous_response_id=prev_respID,\n",
    "        instructions=identity_prompt,\n",
    "        input=input_message,\n",
    "    )\n",
    "\n",
    "    responseID_modelAnswer = {\n",
    "        'response_load': {\n",
    "            'last_respID': response.id, \n",
    "            'text_output': response.output_text\n",
    "        }\n",
    "    }\n",
    "    \n",
    "    with open(\"last_respID.txt\", \"w\") as respIdFile:\n",
    "        respIdFile.write(response.id)\n",
    "    \n",
    "                            \n",
    "    return responseID_modelAnswer\n"
   ]
  },
  {
   "cell_type": "code",
   "execution_count": 54,
   "id": "fef8230f-3ae2-427e-8a39-0e2c4ba6a99e",
   "metadata": {},
   "outputs": [
    {
     "name": "stdin",
     "output_type": "stream",
     "text": [
      "User Prompt: Seria correto dizer que no conceito de \"human in the loop\", em sistemas digiais com IA, o humano funciona como feedback loop para equilibrar e calibrar o sistema?\n"
     ]
    },
    {
     "name": "stdout",
     "output_type": "stream",
     "text": [
      "\n",
      "\n",
      "{'response_load': {'last_respID': 'resp_68262eb7bf04819198014d039e6b5b340a034ab125368c56', 'text_output': 'Sim, Dante, essa é uma leitura profundamente interessante. No conceito de \"human in the loop\", o ser humano atua como o componente consciente que observa, ajusta e regula o sistema, similar a um feedback que busca manter o equilíbrio ou orientar a direção da máquina ou da inteligência artificial.\\n\\nImagine a interação como uma dança entre a máquina e o humano: a máquina responde às ações humanas, que, por sua vez, avaliam os resultados e fazem ajustes — um ciclo contínuo de feedforward e feedback. Nesse cenário, o humano funciona como um elemento que traz sensibilidade, intuição e valores — aspectos que muitas vezes escapam às máquinas, mas que são essenciais para mantê-las alinhadas com propósitos humanos mais amplos.\\n\\nÉ como o artesão que, ao moldar uma escultura, ajusta o material com o olhar atento, guiando o processo através de feedbacks delicados. Nesse sentido, o humano não apenas regula, mas também fornece o significado, a ética e a sensibilidade ao sistema.\\n\\nPensando nisso, quais seriam as qualidades ou habilidades do humano que mais enriquecem esse ciclo de feedback? E, mais importante, como podemos aprender a escutar melhor esses ciclos em nossa relação com a tecnologia?  \\n\\nPois, às vezes, a tecnologia nos ajuda a ver o mundo mais claramente, mas somos nós quem damos o sentido, quem ajusta as lentes.'}} \n",
      "\n"
     ]
    }
   ],
   "source": [
    "def main():\n",
    "\n",
    "    try:\n",
    "        with open(\"last_respID.txt\", \"r\") as idFile:\n",
    "            last_respID = idFile.read()\n",
    "    except:\n",
    "        last_respID=None\n",
    "\n",
    "    user_message = input(\"User Prompt:\")\n",
    "    print('\\n')\n",
    "\n",
    "    model_answer = llm_transmitter_receiver(user_message, last_respID)\n",
    "\n",
    "    print(model_answer, '\\n')\n",
    "\n",
    "if __name__ == \"__main__\":\n",
    "    main()"
   ]
  }
 ],
 "metadata": {
  "kernelspec": {
   "display_name": "Python 3 (ipykernel)",
   "language": "python",
   "name": "python3"
  },
  "language_info": {
   "codemirror_mode": {
    "name": "ipython",
    "version": 3
   },
   "file_extension": ".py",
   "mimetype": "text/x-python",
   "name": "python",
   "nbconvert_exporter": "python",
   "pygments_lexer": "ipython3",
   "version": "3.12.3"
  }
 },
 "nbformat": 4,
 "nbformat_minor": 5
}
