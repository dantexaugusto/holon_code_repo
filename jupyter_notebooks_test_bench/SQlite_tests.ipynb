{
 "cells": [
  {
   "cell_type": "code",
   "execution_count": 1,
   "id": "39fcda52-215a-43ea-a439-84530622d188",
   "metadata": {},
   "outputs": [],
   "source": [
    "import sqlite3\n",
    "from datetime import datetime\n",
    "from tabulate import tabulate  # para exibição bonita em tabela\n",
    "import shutil #quebra de lina automática na visualização da tabela\n",
    "\n",
    "# Conexão com o banco de dados SQLite\n",
    "conn = sqlite3.connect(\"holon_chat.db\")\n",
    "cursor = conn.cursor()\n",
    "\n",
    "# Criação da tabela\n",
    "cursor.execute(\"\"\"\n",
    "CREATE TABLE IF NOT EXISTS messages (\n",
    "    id INTEGER PRIMARY KEY AUTOINCREMENT,\n",
    "    user_id TEXT NOT NULL,\n",
    "    role TEXT CHECK(role IN ('user', 'holon')) NOT NULL,\n",
    "    message TEXT NOT NULL,\n",
    "    timestamp DATETIME DEFAULT CURRENT_TIMESTAMP,\n",
    "    total_tokens_usage INTEGER\n",
    ")\n",
    "\"\"\")\n",
    "conn.commit()\n",
    "\n",
    "# Função para salvar mensagens\n",
    "def save_message(user_id, role, message, total_tokens_usage):\n",
    "    timestamp = datetime.now().isoformat()\n",
    "    cursor.execute(\"\"\"\n",
    "        INSERT INTO messages (user_id, role, message, timestamp, total_tokens_usage)\n",
    "        VALUES (?, ?, ?, ?, ?)\n",
    "    \"\"\", (user_id, role, message, timestamp, total_tokens_usage))\n",
    "    conn.commit()\n",
    "\n",
    "# Exemplo de uso\n",
    "save_message(\"user123\", \"user\", \"O que é holismo?\", 38291)\n",
    "save_message(\"user123\", \"holon\", \"Holismo é a ideia de que o todo é maior do que a soma das partes.\", 890)\n"
   ]
  },
  {
   "cell_type": "code",
   "execution_count": 3,
   "id": "f66a8837-6a69-48ca-929d-97bf2c7a0835",
   "metadata": {},
   "outputs": [
    {
     "name": "stdout",
     "output_type": "stream",
     "text": [
      "\n",
      "📋 Conteúdo da tabela 'messages':\n",
      "\n",
      "╒══════╤═══════════╤════════╤══════════════════╤══════════════════╤══════════════════════╕\n",
      "│   id │ user_id   │ role   │ message          │ timestamp        │   total_tokens_usage │\n",
      "╞══════╪═══════════╪════════╪══════════════════╪══════════════════╪══════════════════════╡\n",
      "│    1 │ user123   │ user   │ O que é holismo… │ 2025-05-15T18:1… │                38291 │\n",
      "├──────┼───────────┼────────┼──────────────────┼──────────────────┼──────────────────────┤\n",
      "│    2 │ user123   │ holon  │ Holismo é a ide… │ 2025-05-15T18:1… │                  890 │\n",
      "├──────┼───────────┼────────┼──────────────────┼──────────────────┼──────────────────────┤\n",
      "│    3 │ user123   │ user   │ O que é holismo… │ 2025-05-15T18:1… │                38291 │\n",
      "├──────┼───────────┼────────┼──────────────────┼──────────────────┼──────────────────────┤\n",
      "│    4 │ user123   │ holon  │ Holismo é a ide… │ 2025-05-15T18:1… │                  890 │\n",
      "├──────┼───────────┼────────┼──────────────────┼──────────────────┼──────────────────────┤\n",
      "│    5 │ user123   │ user   │ O que é holismo… │ 2025-05-15T18:2… │                38291 │\n",
      "├──────┼───────────┼────────┼──────────────────┼──────────────────┼──────────────────────┤\n",
      "│    6 │ user123   │ holon  │ Holismo é a ide… │ 2025-05-15T18:2… │                  890 │\n",
      "╘══════╧═══════════╧════════╧══════════════════╧══════════════════╧══════════════════════╛\n"
     ]
    }
   ],
   "source": [
    "\n",
    "\n",
    "def exibir_tabela(db_name=\"holon_chat.db\", table_name=\"messages\"):\n",
    "    conn = sqlite3.connect(db_name)\n",
    "    cursor = conn.cursor()\n",
    "\n",
    "    # Consulta os dados\n",
    "    cursor.execute(f\"SELECT * FROM {table_name}\")\n",
    "    rows = cursor.fetchall()\n",
    "\n",
    "    # Cabeçalhos\n",
    "    headers = [description[0] for description in cursor.description]\n",
    "\n",
    "    # Detecta largura do terminal\n",
    "    terminal_width = shutil.get_terminal_size().columns\n",
    "\n",
    "    # Trunca campos longos para caber melhor na tela\n",
    "    max_col_width = max(15, terminal_width // len(headers) - 5)\n",
    "\n",
    "    def trunc(value):\n",
    "        return str(value)[:max_col_width] + (\"…\" if len(str(value)) > max_col_width else \"\")\n",
    "\n",
    "    rows_trunc = [[trunc(cell) for cell in row] for row in rows]\n",
    "\n",
    "    # Exibe a tabela\n",
    "    print(f\"\\n📋 Conteúdo da tabela '{table_name}':\\n\")\n",
    "    print(tabulate(rows_trunc, headers=headers, tablefmt=\"fancy_grid\"))\n",
    "\n",
    "    conn.close()\n",
    "\n",
    "# Uso\n",
    "exibir_tabela()\n"
   ]
  }
 ],
 "metadata": {
  "kernelspec": {
   "display_name": "Python 3 (ipykernel)",
   "language": "python",
   "name": "python3"
  },
  "language_info": {
   "codemirror_mode": {
    "name": "ipython",
    "version": 3
   },
   "file_extension": ".py",
   "mimetype": "text/x-python",
   "name": "python",
   "nbconvert_exporter": "python",
   "pygments_lexer": "ipython3",
   "version": "3.12.3"
  }
 },
 "nbformat": 4,
 "nbformat_minor": 5
}
